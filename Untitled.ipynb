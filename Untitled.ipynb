{
 "cells": [
  {
   "cell_type": "code",
   "execution_count": 9,
   "id": "b3da62a4",
   "metadata": {},
   "outputs": [],
   "source": [
    "#!pip install opencv-python\n"
   ]
  },
  {
   "cell_type": "code",
   "execution_count": 8,
   "id": "2a819c58",
   "metadata": {},
   "outputs": [],
   "source": [
    "import numpy as np\n",
    "import pandas as pd\n",
    "import os\n",
    "import cv2 as cv\n",
    "import pathlib\n",
    "import warnings"
   ]
  },
  {
   "cell_type": "code",
   "execution_count": 10,
   "id": "9c7cefaa",
   "metadata": {},
   "outputs": [
    {
     "ename": "SyntaxError",
     "evalue": "(unicode error) 'unicodeescape' codec can't decode bytes in position 2-3: truncated \\UXXXXXXXX escape (2074966124.py, line 6)",
     "output_type": "error",
     "traceback": [
      "\u001b[1;36m  File \u001b[1;32m\"C:\\Users\\Sidik\\AppData\\Local\\Temp\\ipykernel_3004\\2074966124.py\"\u001b[1;36m, line \u001b[1;32m6\u001b[0m\n\u001b[1;33m    train_data = pathlib.Path('C:\\Users\\Sidik\\Desktop\\Mono\\Train_baseline\\train')\u001b[0m\n\u001b[1;37m                                                                                ^\u001b[0m\n\u001b[1;31mSyntaxError\u001b[0m\u001b[1;31m:\u001b[0m (unicode error) 'unicodeescape' codec can't decode bytes in position 2-3: truncated \\UXXXXXXXX escape\n"
     ]
    }
   ],
   "source": [
    "from sklearn.utils import all_estimators\n",
    "IMAGE_SIZE = 256\n",
    "\n",
    "# a path do dataset\n",
    "\n",
    "train_data = pathlib.Path('C:\\Users\\Sidik\\Desktop\\Mono\\Train_baseline\\train')\n",
    "Test_data = pathlib.Path('C:\\Users\\Sidik\\Desktop\\Mono\\Train_baseline\\test')\n",
    "\n",
    "Nomes = ['Benign', 'Malign', 'Normal']\n",
    "i0 = 0\n",
    "i1 = 0\n",
    "i2 = 0\n",
    "i3 = 0\n",
    "i4 = 0\n",
    "\n",
    "num_class = 3\n",
    "print(train_data)\n",
    "print(test_data)"
   ]
  },
  {
   "cell_type": "code",
   "execution_count": null,
   "id": "68254b23",
   "metadata": {},
   "outputs": [],
   "source": []
  }
 ],
 "metadata": {
  "kernelspec": {
   "display_name": "Python 3 (ipykernel)",
   "language": "python",
   "name": "python3"
  },
  "language_info": {
   "codemirror_mode": {
    "name": "ipython",
    "version": 3
   },
   "file_extension": ".py",
   "mimetype": "text/x-python",
   "name": "python",
   "nbconvert_exporter": "python",
   "pygments_lexer": "ipython3",
   "version": "3.9.13"
  }
 },
 "nbformat": 4,
 "nbformat_minor": 5
}
